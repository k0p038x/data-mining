{
 "cells": [
  {
   "cell_type": "markdown",
   "metadata": {},
   "source": [
    "<h3> DataSet </h3>\n",
    "<ol>\n",
    "    <li> Reading the DataSet </li>\n",
    "    <li> Split into Train and Test sets </li>\n",
    "</ol>"
   ]
  },
  {
   "cell_type": "code",
   "execution_count": 7,
   "metadata": {
    "colab": {
     "base_uri": "https://localhost:8080/",
     "height": 415
    },
    "colab_type": "code",
    "id": "XxEyKtoJm0pH",
    "outputId": "2dc634b1-1b34-4332-d25f-fa028ebf8104"
   },
   "outputs": [
    {
     "name": "stdout",
     "output_type": "stream",
     "text": [
      "Data shape : (150, 6)\n",
      "(100, 5)\n",
      "[1 1 1 0 2 0 0 1 2 2 0 1 2 2 1 2 1 0 1 0 2 1 1 0 1 2 2 2 0 1 0 2 1 1 0 0 0\n",
      " 2 1 1 0 2 2 2 2 2 0 2 2 1 0 2 2 0 0 1 0 2 1 2 0 2 0 0 1 2 0 1 0 2 1 1 0 2\n",
      " 0 2 1 2 2 1 0 2 2 2 1 1 0 0 0 2 1 0 2 1 1 1 0 1 2 1]\n"
     ]
    }
   ],
   "source": [
    "import numpy as np\n",
    "import pandas as pd\n",
    "import random\n",
    "import copy\n",
    "from tqdm import tqdm\n",
    "import math\n",
    "import matplotlib.pyplot as plt\n",
    "\n",
    "data = pd.read_csv('/home/chandu/Desktop/DMW_April05/Perceptron/Iris.csv')\n",
    "print(\"Data shape : \" + str(data.shape))\n",
    "\n",
    "X = data.iloc[:,1:5].values.tolist()\n",
    "Y_dup = data.iloc[:,5].values.tolist()\n",
    "\n",
    "c = list(zip(X, Y_dup))\n",
    "random.shuffle(c)\n",
    "X, Y_dup = zip(*c)\n",
    "\n",
    "Y = []\n",
    "cnt1=0\n",
    "cnt2=0\n",
    "cnt3=0\n",
    "for i in range(len(Y_dup)):\n",
    "    if Y_dup[i]=='Iris-setosa':\n",
    "        Y.append(0)\n",
    "        cnt1+=1\n",
    "    elif Y_dup[i]=='Iris-versicolor':\n",
    "        Y.append(1)\n",
    "        cnt2+=1\n",
    "    else:\n",
    "        Y.append(2)\n",
    "        cnt3+=1\n",
    "\n",
    "\n",
    "X = np.array(X)\n",
    "Y = np.array(Y)\n",
    "\n",
    "col = np.ones((X.shape[0]))\n",
    "X = np.c_[X, col]\n",
    "\n",
    "cnt = 100\n",
    "Xtest = X[cnt:]\n",
    "Ytest = Y[cnt:]\n",
    "X = X[:cnt]\n",
    "Y = Y[:cnt]\n",
    "print(X.shape)\n",
    "\n",
    "print(Y)"
   ]
  },
  {
   "cell_type": "code",
   "execution_count": 8,
   "metadata": {},
   "outputs": [
    {
     "name": "stderr",
     "output_type": "stream",
     "text": [
      "100%|██████████| 499/499 [00:00<00:00, 7165.14it/s]\n"
     ]
    },
    {
     "data": {
      "image/png": "[encoded data removed]",
      "text/plain": [
       "<Figure size 432x288 with 1 Axes>"
      ]
     },
     "metadata": {},
     "output_type": "display_data"
    }
   ],
   "source": [
    "\n",
    "Y1 = copy.deepcopy(Y)\n",
    "\n",
    "for i in range(Y.shape[0]):\n",
    "    if Y[i]==2:\n",
    "        Y[i] = 1\n",
    "\n",
    "W = np.zeros(X.shape[1])\n",
    "\n",
    "err = []\n",
    "ep = []\n",
    "\n",
    "alpha = 0.1\n",
    "for epochs in tqdm(range(1, 500)):\n",
    "    \n",
    "    hx = X.dot(W)\n",
    "    hx = np.exp(-hx)\n",
    "    hx = 1 / (1 + hx)\n",
    "    dif = hx - Y\n",
    "    der = (X.T).dot(dif)\n",
    "    der = der / (X.shape[0])\n",
    "    W = W - (alpha * der)\n",
    "    \n",
    "    error = 0\n",
    "    hx = X.dot(W)\n",
    "    hx = np.exp(-hx)\n",
    "    hx = 1 / (1 + hx)\n",
    "    for i in range(X.shape[0]):\n",
    "        if Y[i]==0:\n",
    "            error+=math.log(1-hx[i])\n",
    "        else:\n",
    "            error+=math.log(hx[i])\n",
    "    error/=X.shape[0]\n",
    "    error *=-1\n",
    "    \n",
    "    err.append(error)\n",
    "    ep.append(epochs)\n",
    "\n",
    "\n",
    "plt.plot(ep,err, 'r')\n",
    "plt.xlabel('epochs')\n",
    "plt.ylabel('cost')\n",
    "plt.show()"
   ]
  },
  {
   "cell_type": "markdown",
   "metadata": {},
   "source": [
    "<p> Results tested on test data-set </p>"
   ]
  },
  {
   "cell_type": "code",
   "execution_count": 9,
   "metadata": {},
   "outputs": [
    {
     "name": "stdout",
     "output_type": "stream",
     "text": [
      "Accuracy by considering 1,2 as same labels : 100.0\n"
     ]
    }
   ],
   "source": [
    "hx = Xtest.dot(W)\n",
    "hx = np.exp(-hx)\n",
    "hx = 1 / ( 1 + hx)\n",
    "count = 0\n",
    "total = 0\n",
    "for i in range(Xtest.shape[0]):\n",
    "    total+=1\n",
    "    val = Ytest[i]\n",
    "    if val==2:\n",
    "        val = 1\n",
    "    if round(hx[i])==val:\n",
    "        count +=1\n",
    "print(f\"Accuracy by considering 1,2 as same labels : {count*100/total}\")"
   ]
  },
  {
   "cell_type": "code",
   "execution_count": 10,
   "metadata": {},
   "outputs": [],
   "source": [
    "X_new = []\n",
    "Y_new = []\n",
    "\n",
    "for i in range(Y1.shape[0]):\n",
    "    if Y1[i] == 0:\n",
    "        continue\n",
    "    X_new.append(X[i])\n",
    "    Y_new.append(Y1[i])\n",
    "\n",
    "X = np.array(X_new)\n",
    "Y = np.array(Y_new)"
   ]
  },
  {
   "cell_type": "code",
   "execution_count": 11,
   "metadata": {},
   "outputs": [
    {
     "name": "stderr",
     "output_type": "stream",
     "text": [
      "100%|██████████| 499/499 [00:00<00:00, 7581.81it/s]\n"
     ]
    },
    {
     "data": {
      "image/png": "[encoded data removed]",
      "text/plain": [
       "<Figure size 432x288 with 1 Axes>"
      ]
     },
     "metadata": {},
     "output_type": "display_data"
    }
   ],
   "source": [
    "W = np.zeros(X.shape[1])\n",
    "\n",
    "err = []\n",
    "ep = []\n",
    "\n",
    "alpha = 0.1\n",
    "for epochs in tqdm(range(1, 500)):\n",
    "    \n",
    "    hx = X.dot(W)\n",
    "    hx = np.exp(-hx)\n",
    "    hx = 1 / (1 + hx)\n",
    "    dif = hx - Y\n",
    "    der = (X.T).dot(dif)\n",
    "    der = der / (X.shape[0])\n",
    "    W = W - (alpha * der)\n",
    "    \n",
    "    error = 0\n",
    "    hx = X.dot(W)\n",
    "    hx = np.exp(-hx)\n",
    "    hx = 1 / (1 + hx)\n",
    "    for i in range(X.shape[0]):\n",
    "        if Y[i]==0:\n",
    "            error+=math.log(1-hx[i])\n",
    "        else:\n",
    "            error+=math.log(hx[i])\n",
    "    error/=X.shape[0]\n",
    "    error *=-1\n",
    "    \n",
    "    err.append(error)\n",
    "    ep.append(epochs)\n",
    "\n",
    "\n",
    "plt.plot(ep,err, 'r')\n",
    "plt.xlabel('epochs')\n",
    "plt.ylabel('cost')\n",
    "plt.show()"
   ]
  },
  {
   "cell_type": "code",
   "execution_count": 12,
   "metadata": {},
   "outputs": [],
   "source": [
    "X_new = []\n",
    "Y_new = []\n",
    "\n",
    "for i in range(Ytest.shape[0]):\n",
    "    if Ytest[i] == 0:\n",
    "        continue\n",
    "    X_new.append(X[i])\n",
    "    Y_new.append(Ytest[i])\n",
    "\n",
    "Xtest = np.array(X_new)\n",
    "Ytest = np.array(Y_new)"
   ]
  },
  {
   "cell_type": "code",
   "execution_count": 13,
   "metadata": {},
   "outputs": [
    {
     "name": "stdout",
     "output_type": "stream",
     "text": [
      "Accuracy by considering 1,2 as same labels : 45.16129032258065\n"
     ]
    }
   ],
   "source": [
    "Ytest-=1\n",
    "hx = Xtest.dot(W)\n",
    "hx = np.exp(-hx)\n",
    "hx = 1 / ( 1 + hx)\n",
    "count = 0\n",
    "total = 0\n",
    "for i in range(Xtest.shape[0]):\n",
    "    val = Ytest[i]\n",
    "    if val==-1:\n",
    "        continue\n",
    "    total+=1\n",
    "    if round(hx[i])==val:\n",
    "        count +=1\n",
    "print(f\"Accuracy by considering 1,2 as same labels : {count*100/total}\")"
   ]
  }
 ],
 "metadata": {
  "colab": {
   "collapsed_sections": [],
   "name": "Untitled2.ipynb",
   "provenance": [],
   "version": "0.3.2"
  },
  "kernelspec": {
   "display_name": "Python 3",
   "language": "python",
   "name": "python3"
  },
  "language_info": {
   "codemirror_mode": {
    "name": "ipython",
    "version": 3
   },
   "file_extension": ".py",
   "mimetype": "text/x-python",
   "name": "python",
   "nbconvert_exporter": "python",
   "pygments_lexer": "ipython3",
   "version": "3.6.5"
  },
  "varInspector": {
   "cols": {
    "lenName": 16,
    "lenType": 16,
    "lenVar": 40
   },
   "kernels_config": {
    "python": {
     "delete_cmd_postfix": "",
     "delete_cmd_prefix": "del ",
     "library": "var_list.py",
     "varRefreshCmd": "print(var_dic_list())"
    },
    "r": {
     "delete_cmd_postfix": ") ",
     "delete_cmd_prefix": "rm(",
     "library": "var_list.r",
     "varRefreshCmd": "cat(var_dic_list()) "
    }
   },
   "types_to_exclude": [
    "module",
    "function",
    "builtin_function_or_method",
    "instance",
    "_Feature"
   ],
   "window_display": false
  }
 },
 "nbformat": 4,
 "nbformat_minor": 1
}
