{
 "cells": [
  {
   "cell_type": "markdown",
   "metadata": {},
   "source": [
    "<h2>Implementation of K-medoids algorithm</h2>"
   ]
  },
  {
   "cell_type": "code",
   "execution_count": 18,
   "metadata": {},
   "outputs": [],
   "source": [
    "import os\n",
    "from tqdm import tqdm_notebook as tqdm\n",
    "import pandas as pd\n",
    "import numpy as np\n",
    "import random"
   ]
  },
  {
   "cell_type": "code",
   "execution_count": 19,
   "metadata": {},
   "outputs": [],
   "source": [
    "def read_dataset():\n",
    "    global data\n",
    "    df = pd.read_excel('Absenteeism_at_work.xls')\n",
    "    df = df.drop_duplicates()\n",
    "    data = df.values\n",
    "    df = df.drop(['ID','Absenteeism time in hours'], axis = 1)\n",
    "    df = (df - df.mean())/df.std()\n",
    "    df = df.values\n",
    "    return df"
   ]
  },
  {
   "cell_type": "code",
   "execution_count": 34,
   "metadata": {},
   "outputs": [],
   "source": [
    "def get_cluster(df, medoid, k):\n",
    "    cluster = []\n",
    "    for i in range(df.shape[0]):\n",
    "        dist = []\n",
    "        [dist.append(np.linalg.norm(medoid[j] - df[i])) for j in range(k)]\n",
    "        cluster.append(dist.index(min(dist)))\n",
    "\n",
    "    return np.array(cluster)"
   ]
  },
  {
   "cell_type": "code",
   "execution_count": 38,
   "metadata": {},
   "outputs": [
    {
     "data": {
      "application/vnd.jupyter.widget-view+json": {
       "model_id": "650ce067d65e43219bc3b29eb77e1c25",
       "version_major": 2,
       "version_minor": 0
      },
      "text/plain": [
       "HBox(children=(IntProgress(value=0, max=10), HTML(value='')))"
      ]
     },
     "metadata": {},
     "output_type": "display_data"
    },
    {
     "name": "stdout",
     "output_type": "stream",
     "text": [
      "\n",
      "[[-0.69344822 -0.1206425  -1.32650334  0.4016176   1.01083668  0.11576724\n",
      "  -0.11343916  0.53649699 -0.45954245  0.11878513 -0.24489792 -0.43452727\n",
      "  -0.05513316  0.87654648 -0.28758438  0.17315632 -0.46691274 -0.19522497\n",
      "  -0.38449249]\n",
      " [-2.22594709  1.34786797 -0.62499671  1.29325919  1.01083668  0.11576724\n",
      "  -0.11343916  0.53649699 -0.09049911 -0.40699734  4.0775503  -0.43452727\n",
      "  -0.05513316  0.87654648 -0.28758438  0.17315632 -0.46691274 -0.19522497\n",
      "  -0.38449249]\n",
      " [ 1.0748197  -0.1206425  -1.32650334  0.4016176  -0.6535161   1.47569528\n",
      "   1.25949876  0.23177706 -0.45954245  0.11878513 -0.24489792 -0.43452727\n",
      "  -0.96034276  0.87654648 -0.28758438 -0.57683365  0.77701328 -0.35756753\n",
      "   1.02564621]\n",
      " [ 0.36751253 -1.00174879 -0.62499671 -0.49002399 -0.6535161  -0.49620037\n",
      "   1.03067577  0.53649699 -0.70207402  0.90745884 -0.24489792  1.05467784\n",
      "   0.85007643 -1.1392249   3.47231508 -0.57683365 -1.2443665  -0.35756753\n",
      "  -1.08956185]\n",
      " [ 0.48539706 -0.1206425   0.77801657  0.4016176   0.03005736 -0.22421476\n",
      "  -0.79990812 -1.2918226  -0.45954245  0.11878513 -0.24489792 -0.43452727\n",
      "  -0.05513316 -1.1392249  -0.28758438  0.92314629 -0.77789424 -0.51991008\n",
      "  -0.61951561]\n",
      " [ 0.95693517 -1.29545089  0.77801657 -0.49002399 -0.6535161   1.47569528\n",
      "   1.25949876  0.23177706 -0.1987133   0.64456761 -0.24489792 -0.43452727\n",
      "  -0.96034276  0.87654648 -0.28758438 -0.57683365  0.77701328 -0.35756753\n",
      "   1.02564621]\n",
      " [ 0.36751253  0.17305959  0.07650993 -1.38166558  2.05105716  1.54369168\n",
      "  -2.17284603 -1.2918226  -0.18971657 -0.40699734 -0.24489792 -0.43452727\n",
      "  -0.05513316  0.87654648 -0.28758438  2.42312624  0.07730489 -0.03288242\n",
      "   0.08555374]\n",
      " [ 1.0748197  -0.1206425   1.47952321  0.4016176   0.5501676   1.40769888\n",
      "  -0.34226214 -0.07294287 -0.45954245  0.11878513 -0.24489792 -0.43452727\n",
      "   2.66049562  0.87654648 -0.28758438 -0.57683365 -1.08887575 -0.68225264\n",
      "  -0.85453873]\n",
      " [-0.10402558 -1.58915298 -0.62499671 -0.49002399 -1.01016312 -1.17616439\n",
      "   0.34420681 -0.3776628   1.05026094  0.38167637 -0.24489792 -0.43452727\n",
      "   0.85007643  0.87654648 -0.28758438 -0.57683365  1.24348553  3.86333891\n",
      "  -0.38449249]\n",
      " [ 0.48539706 -0.4143446   0.77801657  0.4016176   0.17866029 -0.90417878\n",
      "  -1.0287311  -0.68238274 -0.87265709  1.17035008 -0.24489792  2.54388296\n",
      "  -0.96034276 -1.1392249  -0.28758438 -0.57683365 -0.31142199  0.94117292\n",
      "  -0.38449249]]\n"
     ]
    }
   ],
   "source": [
    "k = 10\n",
    "df = read_dataset()\n",
    "\n",
    "\n",
    "medoid = []\n",
    "[medoid.append(df[x]) for x in range(k)]\n",
    "medoid = np.array(medoid)\n",
    "\n",
    "\n",
    "for epochs in tqdm(range(0,10)):\n",
    "    \n",
    "    cluster = get_cluster(df, medoid, k)\n",
    "    for i in range(k):\n",
    "        ind = np.where(cluster==i)\n",
    "        values = df[ind]\n",
    "        cost = []\n",
    "        for j in range(values.shape[0]):\n",
    "            cost.append(0)\n",
    "            for p in range(values.shape[0]):\n",
    "                cost[j] += (np.linalg.norm(values[j] - values[p]))\n",
    "        medoid[i] = values[cost.index(min(cost))]\n",
    "\n",
    "    \n",
    "print(medoid)\n",
    "for i in range(k):\n",
    "    ind = np.where(cluster==i)\n",
    "    values = data[ind]\n",
    "    values = values[:,:]\n",
    "    np.savetxt('data-'+str(i)+'.txt', values, fmt='%7.7g')\n",
    "    "
   ]
  }
 ],
 "metadata": {
  "kernelspec": {
   "display_name": "Python 3",
   "language": "python",
   "name": "python3"
  },
  "language_info": {
   "codemirror_mode": {
    "name": "ipython",
    "version": 3
   },
   "file_extension": ".py",
   "mimetype": "text/x-python",
   "name": "python",
   "nbconvert_exporter": "python",
   "pygments_lexer": "ipython3",
   "version": "3.6.5"
  },
  "varInspector": {
   "cols": {
    "lenName": 16,
    "lenType": 16,
    "lenVar": 40
   },
   "kernels_config": {
    "python": {
     "delete_cmd_postfix": "",
     "delete_cmd_prefix": "del ",
     "library": "var_list.py",
     "varRefreshCmd": "print(var_dic_list())"
    },
    "r": {
     "delete_cmd_postfix": ") ",
     "delete_cmd_prefix": "rm(",
     "library": "var_list.r",
     "varRefreshCmd": "cat(var_dic_list()) "
    }
   },
   "types_to_exclude": [
    "module",
    "function",
    "builtin_function_or_method",
    "instance",
    "_Feature"
   ],
   "window_display": false
  }
 },
 "nbformat": 4,
 "nbformat_minor": 2
}
