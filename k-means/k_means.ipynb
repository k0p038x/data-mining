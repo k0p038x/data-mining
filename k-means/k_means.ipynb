{
 "cells": [
  {
   "cell_type": "markdown",
   "metadata": {},
   "source": [
    "<h2>Implementation of K-means algorithm</h2>"
   ]
  },
  {
   "cell_type": "code",
   "execution_count": 1,
   "metadata": {},
   "outputs": [],
   "source": [
    "import os\n",
    "from tqdm import tqdm_notebook as tqdm\n",
    "import pandas as pd\n",
    "import numpy as np\n",
    "import random"
   ]
  },
  {
   "cell_type": "code",
   "execution_count": 2,
   "metadata": {},
   "outputs": [],
   "source": [
    "def read_dataset():\n",
    "    global data\n",
    "    df = pd.read_excel('Absenteeism_at_work.xls')\n",
    "    df = df.drop_duplicates()\n",
    "    data = df.values\n",
    "    df = df.drop(['ID','Absenteeism time in hours'], axis = 1)\n",
    "    df = (df - df.mean())/df.std()\n",
    "    df = df.values\n",
    "    return df"
   ]
  },
  {
   "cell_type": "code",
   "execution_count": 3,
   "metadata": {},
   "outputs": [],
   "source": [
    "def get_cluster(df, centroid, k):\n",
    "    cluster = []\n",
    "    for i in range(df.shape[0]):\n",
    "        dist = []\n",
    "        [dist.append(np.linalg.norm(centroid[j] - df[i])) for j in range(k)]\n",
    "        cluster.append(dist.index(min(dist)))\n",
    "\n",
    "    return np.array(cluster)"
   ]
  },
  {
   "cell_type": "code",
   "execution_count": 4,
   "metadata": {},
   "outputs": [
    {
     "data": {
      "application/vnd.jupyter.widget-view+json": {
       "model_id": "4f46edacc71b499a882c45220dc9d44c",
       "version_major": 2,
       "version_minor": 0
      },
      "text/plain": [
       "HBox(children=(IntProgress(value=0), HTML(value='')))"
      ]
     },
     "metadata": {},
     "output_type": "display_data"
    },
    {
     "name": "stdout",
     "output_type": "stream",
     "text": [
      "\n"
     ]
    }
   ],
   "source": [
    "k = 10\n",
    "df = read_dataset()\n",
    "extreme_values = []\n",
    "[extreme_values.append([np.amin(df[:,i]), np.amax(df[:,i])]) for i in range(df.shape[1])]\n",
    "\n",
    "centroid = []\n",
    "[centroid.append(df[x]) for x in range(k)]\n",
    "centroid = np.array(centroid)\n",
    "\n",
    "for epochs in tqdm(range(0,100)):\n",
    "    cluster = get_cluster(df, centroid, k)\n",
    "    for i in range(k):\n",
    "        ind = np.where(cluster==i)\n",
    "        values = df[ind]\n",
    "        centroid[i] = np.mean(values, axis = 0)\n",
    "    \n",
    "for i in range(k):\n",
    "    ind = np.where(cluster==i)\n",
    "    values = data[ind]\n",
    "    values = values[:,20:]\n",
    "    np.savetxt('data-'+str(i)+'.txt', values, fmt='%7.7g', delimiter=',')\n",
    "    "
   ]
  }
 ],
 "metadata": {
  "kernelspec": {
   "display_name": "Python 3",
   "language": "python",
   "name": "python3"
  },
  "language_info": {
   "codemirror_mode": {
    "name": "ipython",
    "version": 3
   },
   "file_extension": ".py",
   "mimetype": "text/x-python",
   "name": "python",
   "nbconvert_exporter": "python",
   "pygments_lexer": "ipython3",
   "version": "3.6.5"
  },
  "varInspector": {
   "cols": {
    "lenName": 16,
    "lenType": 16,
    "lenVar": 40
   },
   "kernels_config": {
    "python": {
     "delete_cmd_postfix": "",
     "delete_cmd_prefix": "del ",
     "library": "var_list.py",
     "varRefreshCmd": "print(var_dic_list())"
    },
    "r": {
     "delete_cmd_postfix": ") ",
     "delete_cmd_prefix": "rm(",
     "library": "var_list.r",
     "varRefreshCmd": "cat(var_dic_list()) "
    }
   },
   "types_to_exclude": [
    "module",
    "function",
    "builtin_function_or_method",
    "instance",
    "_Feature"
   ],
   "window_display": false
  }
 },
 "nbformat": 4,
 "nbformat_minor": 2
}
